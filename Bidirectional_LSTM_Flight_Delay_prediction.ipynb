{
  "nbformat": 4,
  "nbformat_minor": 0,
  "metadata": {
    "colab": {
      "provenance": [],
      "mount_file_id": "1f3ytohdQvrqn10gnF9Bq_96eHXcEIWbW",
      "authorship_tag": "ABX9TyMENOL25lSgMnhIHCRmR72l",
      "include_colab_link": true
    },
    "kernelspec": {
      "name": "python3",
      "display_name": "Python 3"
    },
    "language_info": {
      "name": "python"
    }
  },
  "cells": [
    {
      "cell_type": "markdown",
      "metadata": {
        "id": "view-in-github",
        "colab_type": "text"
      },
      "source": [
        "<a href=\"https://colab.research.google.com/github/It21258794/DL_Assignment_SE4050/blob/main/Bidirectional_LSTM_Flight_Delay_prediction.ipynb\" target=\"_parent\"><img src=\"https://colab.research.google.com/assets/colab-badge.svg\" alt=\"Open In Colab\"/></a>"
      ]
    },
    {
      "cell_type": "markdown",
      "source": [
        "# **Bidirectional LSTM Model **"
      ],
      "metadata": {
        "id": "jlB2VFW0Ydyd"
      }
    },
    {
      "cell_type": "code",
      "execution_count": null,
      "metadata": {
        "id": "wrcCwnCUXnl1"
      },
      "outputs": [],
      "source": []
    }
  ]
}